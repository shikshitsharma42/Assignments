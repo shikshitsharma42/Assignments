{
 "cells": [
  {
   "cell_type": "raw",
   "id": "41534dfe",
   "metadata": {},
   "source": [
    "1. In the below elements which of them are values or an expression? eg:- values can be\n",
    "integer or string and expressions will be mathematical operators.\n",
    "\n",
    "*       -  It is an expression.\n",
    "'hello' -  It is a value.\n",
    "-87.8   -  It is a value.\n",
    "-       -  It is an expression.\n",
    "/       -  It is an expression.\n",
    "+       -  It is an expression.\n",
    "6       -  It is a value."
   ]
  },
  {
   "cell_type": "raw",
   "id": "8c388ef1",
   "metadata": {},
   "source": [
    "2. What is the difference between string and variable?\n",
    "\n",
    "Ans- A string can be made up of using characters, letters, phrases, symbols and even numbers enclosed in double quotes or single quotes whereas Variable is used to store data and it's first letter can not be integer or special. e.g.-\n",
    "\n",
    "     \"Shikshit\" , '42Ineuron' , 'shikshitsharma42' - All these can be identified as string.\n",
    "     \n",
    "     42Ineuron , 123sharma , @sharma - All these can not be taken as variable(will giva syntax erro). "
   ]
  },
  {
   "cell_type": "raw",
   "id": "a8e24001",
   "metadata": {},
   "source": [
    "3. Describe three different data types.\n",
    "\n",
    "Ans- (I) int data type - \n",
    "            This int data type is a type of data type which is used when we want our data should be or is integer(in number).\n",
    "            e.g  -  int('any data')\n",
    "            \n",
    "     (II) dict data type - \n",
    "             In dictionary data type, curly braces{} is used data is kept in curly braces in the form of key-value pair.\n",
    "            e.g  -  d = {\"key1\":\"value1\",\"key2\":\"value\"}\n",
    "             \n",
    "    (III) set - \n",
    "             In this data type also curly braces is used but not in key-value pair.\n",
    "            e.g  -  s = {1,2,3,4,9}"
   ]
  },
  {
   "cell_type": "raw",
   "id": "3d00514d",
   "metadata": {},
   "source": [
    "4. What is an expression made up of? What do all expressions do?\n",
    "\n",
    "Ans- An expression can be made up of operators and operands or values or variables etc. \n",
    "        e.g -    c = a + b  (Here c,a and b are operands and = ,+ are operators)\n",
    "      All expressions are used to perform or evaluate some tasks defined by the operators and also used to assign values."
   ]
  },
  {
   "cell_type": "raw",
   "id": "5aaac1f9",
   "metadata": {},
   "source": [
    "5. This assignment statements, like spam = 10. What is the difference between an expression and a statement?\n",
    "\n",
    "Ans- An expression evaluates based on the operators wheres as A statement always does whatever the statement says like print(\"hello\"), here is simply print the statement whereas in spam = 10, the value 10 is assigned to variable spam using the (=) operator."
   ]
  },
  {
   "cell_type": "raw",
   "id": "1fd5399a",
   "metadata": {},
   "source": [
    "6. After running the following code, what does the variable bacon contain?\n",
    "bacon = 22\n",
    "bacon + 1\n",
    "\n",
    "Ans - 23"
   ]
  },
  {
   "cell_type": "raw",
   "id": "dfabc355",
   "metadata": {},
   "source": [
    "7. What should the values of the following two terms be?\n",
    "'spam' + 'spamspam'\n",
    "'spam' * 3\n",
    "\n",
    "Ans-  'spam' + 'spamspam' -  'spamspamspam'\n",
    "      'spam' * 3          -  'spamspamspam'"
   ]
  },
  {
   "cell_type": "raw",
   "id": "f8c88e78",
   "metadata": {},
   "source": [
    "8. Why is eggs a valid variable name while 100 is invalid?\n",
    "\n",
    "Ans - This is because we can not take the first letter of the variable name as integer or number or some special number and\n",
    "      here 100 consists 1(integer) on it's first postion."
   ]
  },
  {
   "cell_type": "raw",
   "id": "ddf7e8c6",
   "metadata": {},
   "source": [
    "9. What three functions can be used to get the integer, floating-point number, or string version of a value?\n",
    "\n",
    "Ans-  for integer -  int()\n",
    "      for floating - float()\n",
    "      for string -   str()"
   ]
  },
  {
   "cell_type": "raw",
   "id": "72dbc771",
   "metadata": {},
   "source": [
    "10. Why does this expression cause an error? How can you fix it?\n",
    "'I have eaten ' + 99 + ' burritos.'\n",
    "\n",
    "Ans - This will give error as we can only concatenate string to string not integer to string.\n",
    "      It can be fixed by Typecasting the integer part(99) to string in the expression as follows -\n",
    "              \n",
    " 'I have eaten ' + str(99) + ' burritos.'      or     'I have eaten ' + '99' + ' burritos.'\n",
    "\n",
    "       \n",
    "       Now it will not give error."
   ]
  }
 ],
 "metadata": {
  "kernelspec": {
   "display_name": "Python 3 (ipykernel)",
   "language": "python",
   "name": "python3"
  },
  "language_info": {
   "codemirror_mode": {
    "name": "ipython",
    "version": 3
   },
   "file_extension": ".py",
   "mimetype": "text/x-python",
   "name": "python",
   "nbconvert_exporter": "python",
   "pygments_lexer": "ipython3",
   "version": "3.9.7"
  }
 },
 "nbformat": 4,
 "nbformat_minor": 5
}
